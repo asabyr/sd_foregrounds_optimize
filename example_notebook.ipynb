{
 "cells": [
  {
   "cell_type": "code",
   "execution_count": 18,
   "id": "af9aa9a5",
   "metadata": {},
   "outputs": [],
   "source": [
    "import fisher \n",
    "import foregrounds_fisher as fg\n",
    "import spectral_distortions as sd\n",
    "import numpy as np\n",
    "from noise_functions import *"
   ]
  },
  {
   "cell_type": "markdown",
   "id": "c3340676",
   "metadata": {},
   "source": [
    "# Example using original version of sd_foregrounds (i.e. example.py)"
   ]
  },
  {
   "cell_type": "code",
   "execution_count": null,
   "id": "bd4cb86a",
   "metadata": {},
   "outputs": [],
   "source": [
    "# PIXIE with all signals is the default. \n",
    "fish = fisher.FisherEstimation()\n",
    "# args are stored in fish.args, values are stored in dictionary fish.argvals, \n",
    "# and fisher uncertainties are in fish.errors\n",
    "fish.run_fisher_calculation()\n",
    "# print the errors in sigma\n",
    "fish.print_errors()\n",
    "\n",
    "# To set the signals by hand, just modify the fncs arg here:\n",
    "fish = fisher.FisherEstimation()\n",
    "fish.set_signals(fncs=[sd.DeltaI_reltSZ_2param_yweight, sd.DeltaI_DeltaT, sd.DeltaI_mu,\n",
    "                       fg.thermal_dust_rad, fg.cib_rad, fg.jens_freefree_rad,\n",
    "                       fg.jens_synch_rad, fg.spinning_dust, fg.co_rad])\n",
    "fish.run_fisher_calculation()\n",
    "fish.print_errors()\n",
    "\n",
    "\n",
    "# To change the frequencies (Hz), duration (months), or scale the noise by mult, \n",
    "# turn off the step function bandpass or change fsky, \n",
    "# edit any of the following\n",
    "fish = fisher.FisherEstimation(fmin=5.e9, fmax=1.e12, fstep=5.e9, duration=60, mult=0.1, bandpass=False, fsky=0.5)\n",
    "\n",
    "\n",
    "# Lastly to put priors (in fractions of the parameter value), drop the first n bins or mask out Galactic CO lines do:\n",
    "fish = fisher.FisherEstimation(priors={'Td':0.1, 'Asd':0.01}, drop=2, doCO=True) \n"
   ]
  },
  {
   "cell_type": "markdown",
   "id": "ff7eba5e",
   "metadata": {},
   "source": [
    "# Example computing fisher forecast for a new instrument set-up"
   ]
  },
  {
   "cell_type": "markdown",
   "id": "d3ae2d17",
   "metadata": {},
   "source": [
    "## Simple example computing for a given set of bands & detector counts"
   ]
  },
  {
   "cell_type": "code",
   "execution_count": 20,
   "id": "5cae0270",
   "metadata": {},
   "outputs": [
    {
     "name": "stdout",
     "output_type": "stream",
     "text": [
      "Frequency Bands [Hz]:\n",
      "[[1.000e+00 2.000e+00]\n",
      " [2.000e+00 3.000e+00]\n",
      " [3.000e+00 4.000e+00]\n",
      " [4.000e+00 1.000e+01]\n",
      " [1.000e+01 1.300e+01]\n",
      " [1.300e+01 4.300e+01]\n",
      " [4.300e+01 9.700e+01]\n",
      " [9.700e+01 1.720e+02]\n",
      " [1.720e+02 3.130e+02]\n",
      " [3.130e+02 5.320e+02]\n",
      " [5.320e+02 7.570e+02]\n",
      " [7.570e+02 9.130e+02]\n",
      " [9.130e+02 1.174e+03]\n",
      " [1.174e+03 1.501e+03]\n",
      " [1.501e+03 1.858e+03]\n",
      " [1.858e+03 2.000e+03]]\n",
      "Detector Counts:\n",
      "[  2.   4.   6.   6.   8.  20. 100. 100. 100. 100. 100. 100. 100. 100.\n",
      " 100. 100.]\n"
     ]
    }
   ],
   "source": [
    "# define some bands and detectors for each band \n",
    "optimized_data=np.loadtxt(\"data/mu_1to2000_width1_snr25_bolo10_optimized_bands.txt\", delimiter=',')\n",
    "BANDS=optimized_data[:,:2].reshape(len(optimized_data[:,0]),2)\n",
    "print('Frequency Bands [Hz]:')\n",
    "print(BANDS)\n",
    "DETS=np.array([  2.,   4.,   6.,   6.,   8.,  20.,  100., 100., 100., 100.,100,100,100, 100., 100., 100.])\n",
    "\n",
    "print('Detector Counts:')\n",
    "print(dets)\n"
   ]
  },
  {
   "cell_type": "code",
   "execution_count": 29,
   "id": "be64960b",
   "metadata": {},
   "outputs": [
    {
     "name": "stdout",
     "output_type": "stream",
     "text": [
      "No new bands found, simulating all\n",
      "clearing bands\n",
      "\n",
      "Simulting 1 experiment realizations each with 1 detector realizations and 1 sky realizations. Total sims = 1\n",
      "\n",
      "[                                                                                                    ] 0.0%\n",
      "[====================================================================================================] 100.0%\n",
      "\n",
      "saving sensitivities to /Users/asabyr/Documents/software/bolocalc-space/Experiments/specter_v1/SPECTERsens_out.npy\n",
      "mu_amp 5.038368917461055\n",
      "y_tot 955.4305529683442\n",
      "kT_yweight 33.4362894814056\n",
      "DeltaT_amp 37156.56509210914\n",
      "Ad 799.1616093925419\n",
      "Bd 3317.6696531275315\n",
      "Td 51770.52699568453\n",
      "Acib 221.75802836835746\n",
      "Bcib 720.6981154138261\n",
      "Tcib 2111.460574164406\n",
      "EM 1277.4214382240891\n",
      "As 1816.5367169901049\n",
      "alps -5654.802353574107\n",
      "w2s 575.7349158517261\n",
      "Asd 8016.479490669191\n",
      "Aco 2092.7838419296304\n",
      "CPU times: user 988 ms, sys: 56.2 ms, total: 1.04 s\n",
      "Wall time: 15.6 s\n"
     ]
    }
   ],
   "source": [
    "%%time \n",
    "#run fisher\n",
    "FSKY=0.7 \n",
    "DUR_MONTHS=12\n",
    "HEMT_AMPS=True\n",
    "HEMT_FREQ=10\n",
    "FILE_PREFIX=\"SPECTER\"\n",
    "\n",
    "fish = fisher.FisherEstimation(fsky=FSKY, #observed sky fraction/percentage of TOD\n",
    "                               duration=DUR_MONTHS, #observation duration in months\n",
    "                               bandpass=False, #assume center frequencies are just the midpoint of the band edges \n",
    "                               instrument='new_instrument', # select new_instrument (default is 'pixie')\n",
    "                               file_prefix=FILE_PREFIX, # prefix for all the bolocalc output files\n",
    "                               freq_bands=BANDS, #bands array (shape is (# of bands, 2))\n",
    "                               Ndet_arr=DETS, #detector array (1-D array of length # of bands )\n",
    "                               hemt_amps=HEMT_AMPS, #use hemt amplifiers for low frequencies (recommended for anything below 10GHz)\n",
    "                               hemt_freq=HEMT_FREQ, #below which frequency to use hempt amplifiers if hemt_amps=True\n",
    "                               noisefile=None, #use instantanous sensitivity file in muK-rt(s) or compute sensitity using bolocalc\n",
    "                               priors={}, #priors on model parameters\n",
    "                               systematic_error=[], #compute bias for a given systematic error\n",
    "                               arg_dict={}) #change fiducial parameters\n",
    "fish.run_fisher_calculation()\n",
    "fish.print_errors()"
   ]
  },
  {
   "cell_type": "markdown",
   "id": "19a25f03",
   "metadata": {},
   "source": [
    "## Precompute instantanous noise to avoid running bolocalc each time\n"
   ]
  },
  {
   "cell_type": "code",
   "execution_count": 25,
   "id": "c3407719",
   "metadata": {},
   "outputs": [
    {
     "name": "stdout",
     "output_type": "stream",
     "text": [
      "Precomputing instantanous noise\n",
      "No new bands found, simulating all\n",
      "clearing bands\n",
      "\n",
      "Simulting 1 experiment realizations each with 1 detector realizations and 1 sky realizations. Total sims = 1\n",
      "\n",
      "[                                                                                                    ] 0.0%\n",
      "[====================================================================================================] 100.0%\n",
      "\n",
      "saving sensitivities to /Users/asabyr/Documents/software/bolocalc-space/Experiments/specter_v1/SPECTERsens_out.npy\n",
      "Saved SPECTER_raw_sensitivity.txt file in /data\n"
     ]
    }
   ],
   "source": [
    "print(\"Precomputing instantanous noise\")\n",
    "specter_freqs, specter_noise=getnoise_raw(path=\"data/\", \n",
    "                                          bands=BANDS, \n",
    "                                          prefix=FILE_PREFIX,\n",
    "                                          hemt_amps=HEMT_AMPS,\n",
    "                                          hemt_freq=HEMT_FREQ)\n",
    "print(f\"Saved {FILE_PREFIX}_raw_sensitivity.txt file in /data\")"
   ]
  },
  {
   "cell_type": "code",
   "execution_count": 27,
   "id": "3c530a73",
   "metadata": {},
   "outputs": [
    {
     "name": "stdout",
     "output_type": "stream",
     "text": [
      "Now we can compute fisher super fast\n",
      "mu_amp 5.038368917461055\n",
      "y_tot 955.4305529683442\n",
      "kT_yweight 33.4362894814056\n",
      "DeltaT_amp 37156.56509210914\n",
      "Ad 799.1616093925419\n",
      "Bd 3317.6696531275315\n",
      "Td 51770.52699568453\n",
      "Acib 221.75802836835746\n",
      "Bcib 720.6981154138261\n",
      "Tcib 2111.460574164406\n",
      "EM 1277.4214382240891\n",
      "As 1816.5367169901049\n",
      "alps -5654.802353574107\n",
      "w2s 575.7349158517261\n",
      "Asd 8016.479490669191\n",
      "Aco 2092.7838419296304\n",
      "CPU times: user 131 ms, sys: 6.97 ms, total: 138 ms\n",
      "Wall time: 131 ms\n"
     ]
    }
   ],
   "source": [
    "%%time\n",
    "print(\"Now we can compute fisher super fast\")\n",
    "\n",
    "fish = fisher.FisherEstimation(fsky=FSKY, #observed sky fraction/percentage of TOD\n",
    "                               duration=DUR_MONTHS, #observation duration in months\n",
    "                               bandpass=False, #assume center frequencies are just the midpoint of the band edges \n",
    "                               instrument='new_instrument', # select new_instrument (default is 'pixie')\n",
    "                               file_prefix=FILE_PREFIX, # prefix for all the bolocalc output files\n",
    "                               freq_bands=BANDS, #bands array (shape is (# of bands, 2))\n",
    "                               Ndet_arr=DETS, #detector array (1-D array of length # of bands )\n",
    "                               hemt_amps=HEMT_AMPS, #use hemt amplifiers for low frequencies (recommended for anything below 10GHz)\n",
    "                               hemt_freq=HEMT_FREQ, #below which frequency to use hempt amplifiers if hemt_amps=True\n",
    "                               noisefile=\"data/SPECTER_raw_sensitivity.txt\", #use instantanous sensitivity file in muK-rt(s) or compute sensitity using bolocalc\n",
    "                               priors={}, #priors on model parameters\n",
    "                               systematic_error=[], #compute bias for a given systematic error\n",
    "                               arg_dict={}) #change fiducial parameters\n",
    "fish.run_fisher_calculation()\n",
    "fish.print_errors()"
   ]
  },
  {
   "cell_type": "markdown",
   "id": "6a3bc2ce",
   "metadata": {},
   "source": [
    "# Example computing bias \n"
   ]
  },
  {
   "cell_type": "markdown",
   "id": "b3333e5f",
   "metadata": {},
   "source": [
    "# Example computing fisher errors using different fiducial values for the model"
   ]
  },
  {
   "cell_type": "code",
   "execution_count": null,
   "id": "6ee85e57",
   "metadata": {},
   "outputs": [],
   "source": []
  }
 ],
 "metadata": {
  "kernelspec": {
   "display_name": "specter",
   "language": "python",
   "name": "specter"
  },
  "language_info": {
   "codemirror_mode": {
    "name": "ipython",
    "version": 3
   },
   "file_extension": ".py",
   "mimetype": "text/x-python",
   "name": "python",
   "nbconvert_exporter": "python",
   "pygments_lexer": "ipython3",
   "version": "3.8.13"
  }
 },
 "nbformat": 4,
 "nbformat_minor": 5
}
