{
 "cells": [
  {
   "cell_type": "code",
   "execution_count": null,
   "id": "cb2697a9",
   "metadata": {},
   "outputs": [],
   "source": [
    "import fisher \n",
    "import foregrounds_fisher as fg\n",
    "import spectral_distortions as sd\n",
    "import numpy as np\n",
    "from noise_funcs import *\n",
    "from help_funcs import *"
   ]
  },
  {
   "cell_type": "markdown",
   "id": "78ec5b24",
   "metadata": {},
   "source": [
    "# original version of sd_foregrounds \n",
    "(i.e. example.py)"
   ]
  },
  {
   "cell_type": "code",
   "execution_count": null,
   "id": "2c1d34c8",
   "metadata": {},
   "outputs": [],
   "source": [
    "# PIXIE with all signals is the default. \n",
    "fish = fisher.FisherEstimation()\n",
    "# args are stored in fish.args, values are stored in dictionary fish.argvals, \n",
    "# and fisher uncertainties are in fish.errors\n",
    "fish.run_fisher_calculation()\n",
    "# print the errors in sigma\n",
    "fish.print_errors()\n",
    "\n",
    "# To set the signals by hand, just modify the fncs arg here:\n",
    "fish = fisher.FisherEstimation()\n",
    "fish.set_signals(fncs=[sd.DeltaI_reltSZ_2param_yweight, sd.DeltaI_DeltaT, sd.DeltaI_mu,\n",
    "                       fg.thermal_dust_rad, fg.cib_rad, fg.jens_freefree_rad,\n",
    "                       fg.jens_synch_rad, fg.spinning_dust, fg.co_rad])\n",
    "fish.run_fisher_calculation()\n",
    "fish.print_errors()\n",
    "\n",
    "\n",
    "# To change the frequencies (Hz), duration (months), or scale the noise by mult, \n",
    "# turn off the step function bandpass or change fsky, \n",
    "# edit any of the following\n",
    "fish = fisher.FisherEstimation(fmin=5.e9, fmax=1.e12, fstep=5.e9, duration=60, mult=0.1, bandpass=False, fsky=0.5)\n",
    "\n",
    "\n",
    "# Lastly to put priors (in fractions of the parameter value), drop the first n bins or mask out Galactic CO lines do:\n",
    "fish = fisher.FisherEstimation(priors={'Td':0.1, 'Asd':0.01}, drop=2, doCO=True) \n"
   ]
  },
  {
   "cell_type": "markdown",
   "id": "85911827",
   "metadata": {},
   "source": [
    "# Example for specter set-up\n"
   ]
  },
  {
   "cell_type": "code",
   "execution_count": null,
   "id": "b2425e8a",
   "metadata": {},
   "outputs": [],
   "source": [
    "# define some bands and detectors for each band and other variables \n",
    "# this example uses ithe \n",
    "\n",
    "optimized_data=np.loadtxt(\"data/mu_1to2000_width1_snr25_bolo10_optimized_bands.txt\", delimiter=',')\n",
    "BANDS=optimized_data[:,:2].reshape(len(optimized_data[:,0]),2)\n",
    "\n",
    "print('Frequency Bands [Hz]:')\n",
    "print(BANDS)\n",
    "DETS=np.array([  2.,   4.,   6.,   6.,   8.,  20.,  100., 100., 100., 100.,100,100,100, 100., 100., 100.])\n",
    "print('Detector Counts:')\n",
    "print(DETS)\n",
    "\n",
    "FSKY=0.7 \n",
    "DUR_MONTHS=12\n",
    "HEMT_AMPS=True\n",
    "HEMT_FREQ=10\n",
    "FILE_PREFIX=\"SPECTER\""
   ]
  },
  {
   "cell_type": "code",
   "execution_count": null,
   "id": "a5982a25",
   "metadata": {},
   "outputs": [],
   "source": [
    "%%time \n",
    "#run fisher\n",
    "\n",
    "\n",
    "fish = fisher.FisherEstimation(fsky=FSKY, #observed sky fraction/percentage of TOD\n",
    "                               duration=DUR_MONTHS, #observation duration in months\n",
    "                               bandpass=False, #assume center frequencies are just the midpoint of the band edges \n",
    "                               instrument='specter', # select specter (default is 'pixie')\n",
    "                               file_prefix=FILE_PREFIX, # prefix for all the bolocalc output files\n",
    "                               freq_bands=BANDS, #bands array (shape is (# of bands, 2))\n",
    "                               Ndet_arr=DETS, #detector array (1-D array of length # of bands )\n",
    "                               hemt_amps=HEMT_AMPS, #use hemt amplifiers for low frequencies (recommended for anything below 10GHz)\n",
    "                               hemt_freq=HEMT_FREQ, #below which frequency to use hempt amplifiers if hemt_amps=True\n",
    "                               noisefile=None, #use instantanous sensitivity file in muK-rt(s) or compute sensitity using bolocalc\n",
    "                               priors={}, #priors on model parameters\n",
    "                               systematic_error=[], #compute bias for a given systematic error\n",
    "                               arg_dict={}) #change fiducial parameters\n",
    "fish.run_fisher_calculation()\n",
    "fish.print_errors()"
   ]
  },
  {
   "cell_type": "markdown",
   "id": "903e3691",
   "metadata": {},
   "source": [
    "## Precompute instantanous noise to avoid running bolocalc each time\n"
   ]
  },
  {
   "cell_type": "code",
   "execution_count": null,
   "id": "6829cf69",
   "metadata": {},
   "outputs": [],
   "source": [
    "print(\"Precomputing instantanous noise\")\n",
    "specter_freqs, specter_noise=getnoise_raw(path=\"data/\", \n",
    "                                          bands=BANDS, \n",
    "                                          prefix=FILE_PREFIX,\n",
    "                                          hemt_amps=HEMT_AMPS,\n",
    "                                          hemt_freq=HEMT_FREQ)\n",
    "print(f\"Saved {FILE_PREFIX}_raw_sensitivity.txt file in /data\")"
   ]
  },
  {
   "cell_type": "code",
   "execution_count": null,
   "id": "163a832f",
   "metadata": {},
   "outputs": [],
   "source": [
    "%%time\n",
    "print(\"Now we can compute fisher super fast\")\n",
    "\n",
    "fish = fisher.FisherEstimation(fsky=FSKY, #observed sky fraction/percentage of TOD\n",
    "                               duration=DUR_MONTHS, #observation duration in months\n",
    "                               bandpass=False, #assume center frequencies are just the midpoint of the band edges \n",
    "                               instrument='specter', # select specter (default is 'pixie')\n",
    "                               file_prefix=FILE_PREFIX, # prefix for all the bolocalc output files\n",
    "                               freq_bands=BANDS, #bands array (shape is (# of bands, 2))\n",
    "                               Ndet_arr=DETS, #detector array (1-D array of length # of bands )\n",
    "                               hemt_amps=HEMT_AMPS, #use hemt amplifiers for low frequencies (recommended for anything below 10GHz)\n",
    "                               hemt_freq=HEMT_FREQ, #below which frequency to use hempt amplifiers if hemt_amps=True\n",
    "                               noisefile=\"data/SPECTER_raw_sensitivity.txt\", #use instantanous sensitivity file in muK-rt(s) or compute sensitity using bolocalc\n",
    "                               priors={}, #priors on model parameters\n",
    "                               systematic_error=[], #compute bias for a given systematic error\n",
    "                               arg_dict={}) #change fiducial parameters\n",
    "fish.run_fisher_calculation()\n",
    "fish.print_errors()"
   ]
  },
  {
   "cell_type": "markdown",
   "id": "38fdb745",
   "metadata": {},
   "source": [
    "# Example computing bias \n"
   ]
  },
  {
   "cell_type": "code",
   "execution_count": null,
   "id": "16677725",
   "metadata": {},
   "outputs": [],
   "source": [
    "# 3 calibrators with (10**-3 muK_RJ calibration error) example\n",
    "\n",
    "SYS_ERR_nano=muKtoJypersr_RJ(10**-3, specter_freqs*1e9) \n",
    "SYS_ERR_nano[-6:]*=-1.0 #6 highest frequencies are systematically biased in opposite direction\n",
    "\n",
    "\n",
    "fish = fisher.FisherEstimation(fsky=FSKY, #observed sky fraction/percentage of TOD\n",
    "                               duration=DUR_MONTHS, #observation duration in months\n",
    "                               bandpass=False, #assume center frequencies are just the midpoint of the band edges \n",
    "                               instrument='specter', # select specter (default is 'pixie')\n",
    "                               file_prefix=FILE_PREFIX, # prefix for all the bolocalc output files\n",
    "                               freq_bands=BANDS, #bands array (shape is (# of bands, 2))\n",
    "                               Ndet_arr=DETS, #detector array (1-D array of length # of bands )\n",
    "                               hemt_amps=HEMT_AMPS, #use hemt amplifiers for low frequencies (recommended for anything below 10GHz)\n",
    "                               hemt_freq=HEMT_FREQ, #below which frequency to use hempt amplifiers if hemt_amps=True\n",
    "                               noisefile=\"data/SPECTER_raw_sensitivity.txt\", #use instantanous sensitivity file in muK-rt(s) or compute sensitity using bolocalc\n",
    "                               priors={}, #priors on model parameters\n",
    "                               systematic_error=SYS_ERR_nano, #compute bias for a given systematic error\n",
    "                               arg_dict={}) #change fiducial parameters\n",
    "\n",
    "fish.run_fisher_calculation()\n",
    "fish.calculate_systematic_bias()\n",
    "mufid=2.e-8\n",
    "print(\"assuming 10^-3 muK_RJ systematic error:\")\n",
    "print(f\"percent bias: {fish.B['mu_amp']/2e-8*100.}\")\n",
    "print(f\"sigma bias: {fish.B['mu_amp']/fish.errors['mu_amp']}\")\n"
   ]
  },
  {
   "cell_type": "markdown",
   "id": "c0e1d5de",
   "metadata": {},
   "source": [
    "# Example computing fisher errors using different fiducial values for the model"
   ]
  },
  {
   "cell_type": "code",
   "execution_count": null,
   "id": "30d06130",
   "metadata": {},
   "outputs": [],
   "source": [
    "#test increasing fiducial foreground spectral parameters values by 5% \n",
    "# (dust index & temperature, cib index & temperature, synchrotron index & curvature)\n",
    "\n",
    "fid_params_keys=np.array(['Bd' ,'Td' ,'Bcib', 'Tcib', 'alps', 'w2s'])\n",
    "factors=np.array([1.05, 1.05, 1.05, 1.05, 1.05, 1.05]) \n",
    "\n",
    "#this function outputs a dictionary with the above parameters \n",
    "# while keeping the rest to their fiducial values\n",
    "test_param_dict=convert_one_dict(factors,fid_params_keys, factor_one=True)\n",
    "\n",
    "\n",
    "fish = fisher.FisherEstimation(fsky=FSKY, #observed sky fraction/percentage of TOD\n",
    "                               duration=DUR_MONTHS, #observation duration in months\n",
    "                               bandpass=False, #assume center frequencies are just the midpoint of the band edges \n",
    "                               instrument='specter', # select specter (default is 'pixie')\n",
    "                               file_prefix=FILE_PREFIX, # prefix for all the bolocalc output files\n",
    "                               freq_bands=BANDS, #bands array (shape is (# of bands, 2))\n",
    "                               Ndet_arr=DETS, #detector array (1-D array of length # of bands )\n",
    "                               hemt_amps=HEMT_AMPS, #use hemt amplifiers for low frequencies (recommended for anything below 10GHz)\n",
    "                               hemt_freq=HEMT_FREQ, #below which frequency to use hempt amplifiers if hemt_amps=True\n",
    "                               noisefile=\"data/SPECTER_raw_sensitivity.txt\", #use instantanous sensitivity file in muK-rt(s) or compute sensitity using bolocalc\n",
    "                               priors={}, #priors on model parameters\n",
    "                               systematic_error=[], #compute bias for a given systematic error\n",
    "                               arg_dict=test_param_dict) #change fiducial parameters\n",
    "fish.run_fisher_calculation()\n",
    "fish.print_errors()\n"
   ]
  }
 ],
 "metadata": {
  "kernelspec": {
   "display_name": "specter",
   "language": "python",
   "name": "specter"
  },
  "language_info": {
   "codemirror_mode": {
    "name": "ipython",
    "version": 3
   },
   "file_extension": ".py",
   "mimetype": "text/x-python",
   "name": "python",
   "nbconvert_exporter": "python",
   "pygments_lexer": "ipython3",
   "version": "3.8.13"
  }
 },
 "nbformat": 4,
 "nbformat_minor": 5
}
